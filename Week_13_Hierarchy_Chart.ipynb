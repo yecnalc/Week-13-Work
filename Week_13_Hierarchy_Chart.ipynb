{
  "nbformat": 4,
  "nbformat_minor": 0,
  "metadata": {
    "colab": {
      "provenance": [],
      "authorship_tag": "ABX9TyP+vjlqFizdZ6vZLYKnI81f",
      "include_colab_link": true
    },
    "kernelspec": {
      "name": "python3",
      "display_name": "Python 3"
    },
    "language_info": {
      "name": "python"
    }
  },
  "cells": [
    {
      "cell_type": "markdown",
      "metadata": {
        "id": "view-in-github",
        "colab_type": "text"
      },
      "source": [
        "<a href=\"https://colab.research.google.com/github/yecnalc/Week-13-Work/blob/main/Week_13_Hierarchy_Chart.ipynb\" target=\"_parent\"><img src=\"https://colab.research.google.com/assets/colab-badge.svg\" alt=\"Open In Colab\"/></a>"
      ]
    },
    {
      "cell_type": "code",
      "source": [],
      "metadata": {
        "id": "7Gb_cVxpRIRy"
      },
      "execution_count": null,
      "outputs": []
    },
    {
      "cell_type": "markdown",
      "source": [
        "Start\n",
        "|\n",
        "V\n",
        "\n",
        "Initialize name and address variables\n",
        "|\n",
        "V\n",
        "\n",
        "Define show_info() method\n",
        "|\n",
        "V\n",
        "\n",
        "Define main() function\n",
        "|\n",
        "V\n",
        "\n",
        "Create MyInfoApp object\n",
        "|\n",
        "V\n",
        "\n",
        "Print \"Press Enter to show your information.\"\n",
        "|\n",
        "V\n",
        "\n",
        "Wait for user to press Enter\n",
        "|\n",
        "V\n",
        "\n",
        "Call show_info() method of MyInfoApp object\n",
        "|\n",
        "V\n",
        "\n",
        "Print name and address to console\n",
        "|\n",
        "V\n",
        "End"
      ],
      "metadata": {
        "id": "8JGJWg43RYV1"
      }
    },
    {
      "cell_type": "code",
      "source": [],
      "metadata": {
        "id": "S0-mvT_GRc6L"
      },
      "execution_count": null,
      "outputs": []
    }
  ]
}